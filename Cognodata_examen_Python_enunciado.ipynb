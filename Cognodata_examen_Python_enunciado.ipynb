{
 "cells": [
  {
   "cell_type": "markdown",
   "metadata": {},
   "source": [
    "# EXAMEN PYTHON"
   ]
  },
  {
   "cell_type": "markdown",
   "metadata": {},
   "source": [
    "El proposito de este examen es comprobar si el candidato posee conocimientos de Python (básico y aplicados a ML). Desde Python 3, aconsejamos usar las siguientes librerias (salvo que se indique lo contrario): **numpy, pandas, matplotlib.pyplot y sklearn**"
   ]
  },
  {
   "cell_type": "markdown",
   "metadata": {},
   "source": [
    "# BLOQUE 1 CONOCIMIENTOS GENERALES DE PYTHON"
   ]
  },
  {
   "cell_type": "code",
   "execution_count": 1,
   "metadata": {},
   "outputs": [],
   "source": [
    "import random\n",
    "import pandas as pd\n",
    "import numpy as np\n",
    "import matplotlib.pyplot as plt\n",
    "from sklearn.model_selection import train_test_split\n",
    "from sklearn.tree import DecisionTreeClassifier\n",
    "from sklearn.metrics import accuracy_score, roc_curve, roc_auc_score\n",
    "from sklearn.linear_model import LogisticRegression"
   ]
  },
  {
   "cell_type": "markdown",
   "metadata": {},
   "source": [
    "### 1.1: crea una funcion a la cual le pases por parametros el numero de filas y el numero de columnas y te la rellene con numeros aleatorios del 1 al 100 con 2 decimales. \n",
    "Crea una matriz de 10 filas y 7 columnas. <font color=\"#9E1B32\">**(No utilices NUMPY ni PANDAS en este apartado, en los demás puedes usarlo)**</font>"
   ]
  },
  {
   "cell_type": "code",
   "execution_count": 2,
   "metadata": {},
   "outputs": [],
   "source": [
    "def matriz ( filas , columnas ):\n",
    "    m = []\n",
    "    for i in range(filas):\n",
    "        fila = []\n",
    "        for j in range(columnas):\n",
    "            fila.append(round(random.uniform(1,100),2))\n",
    "        m.append(fila)\n",
    "    return m"
   ]
  },
  {
   "cell_type": "code",
   "execution_count": 3,
   "metadata": {},
   "outputs": [
    {
     "data": {
      "text/plain": [
       "[[21.34, 60.88, 4.37, 5.32, 87.95, 82.84, 84.1],\n",
       " [43.81, 85.45, 14.79, 29.27, 87.58, 80.9, 58.51],\n",
       " [22.82, 81.98, 16.19, 60.64, 29.08, 99.21, 94.78],\n",
       " [14.83, 50.27, 96.36, 29.09, 62.85, 91.24, 15.56],\n",
       " [59.02, 95.13, 35.68, 82.64, 94.8, 61.71, 27.54],\n",
       " [60.94, 93.56, 76.39, 76.54, 92.41, 22.05, 21.78],\n",
       " [80.49, 25.83, 87.38, 25.4, 80.47, 1.42, 23.09],\n",
       " [94.44, 6.39, 58.04, 69.14, 40.34, 99.02, 56.51],\n",
       " [93.74, 69.19, 17.44, 1.36, 58.95, 78.14, 88.03],\n",
       " [75.65, 45.88, 90.8, 96.32, 81.84, 13.12, 39.45]]"
      ]
     },
     "execution_count": 3,
     "metadata": {},
     "output_type": "execute_result"
    }
   ],
   "source": [
    "matriz = matriz(10,7)\n",
    "matriz"
   ]
  },
  {
   "cell_type": "markdown",
   "metadata": {},
   "source": [
    "### 1.2: A partir de la matriz anterior crea un dataframe de PANDAS, poniendo como nombre de columnas los días de la semana\n",
    "Si no pudiste crear la matriz del apartado anterior, puedes crear una a partir de NUMPY"
   ]
  },
  {
   "cell_type": "code",
   "execution_count": 4,
   "metadata": {},
   "outputs": [
    {
     "data": {
      "text/html": [
       "<div>\n",
       "<style scoped>\n",
       "    .dataframe tbody tr th:only-of-type {\n",
       "        vertical-align: middle;\n",
       "    }\n",
       "\n",
       "    .dataframe tbody tr th {\n",
       "        vertical-align: top;\n",
       "    }\n",
       "\n",
       "    .dataframe thead th {\n",
       "        text-align: right;\n",
       "    }\n",
       "</style>\n",
       "<table border=\"1\" class=\"dataframe\">\n",
       "  <thead>\n",
       "    <tr style=\"text-align: right;\">\n",
       "      <th></th>\n",
       "      <th>Lunes</th>\n",
       "      <th>Martes</th>\n",
       "      <th>Miercoles</th>\n",
       "      <th>Jueves</th>\n",
       "      <th>Viernes</th>\n",
       "      <th>Sabado</th>\n",
       "      <th>Domingo</th>\n",
       "    </tr>\n",
       "  </thead>\n",
       "  <tbody>\n",
       "    <tr>\n",
       "      <th>0</th>\n",
       "      <td>21.34</td>\n",
       "      <td>60.88</td>\n",
       "      <td>4.37</td>\n",
       "      <td>5.32</td>\n",
       "      <td>87.95</td>\n",
       "      <td>82.84</td>\n",
       "      <td>84.10</td>\n",
       "    </tr>\n",
       "    <tr>\n",
       "      <th>1</th>\n",
       "      <td>43.81</td>\n",
       "      <td>85.45</td>\n",
       "      <td>14.79</td>\n",
       "      <td>29.27</td>\n",
       "      <td>87.58</td>\n",
       "      <td>80.90</td>\n",
       "      <td>58.51</td>\n",
       "    </tr>\n",
       "    <tr>\n",
       "      <th>2</th>\n",
       "      <td>22.82</td>\n",
       "      <td>81.98</td>\n",
       "      <td>16.19</td>\n",
       "      <td>60.64</td>\n",
       "      <td>29.08</td>\n",
       "      <td>99.21</td>\n",
       "      <td>94.78</td>\n",
       "    </tr>\n",
       "    <tr>\n",
       "      <th>3</th>\n",
       "      <td>14.83</td>\n",
       "      <td>50.27</td>\n",
       "      <td>96.36</td>\n",
       "      <td>29.09</td>\n",
       "      <td>62.85</td>\n",
       "      <td>91.24</td>\n",
       "      <td>15.56</td>\n",
       "    </tr>\n",
       "    <tr>\n",
       "      <th>4</th>\n",
       "      <td>59.02</td>\n",
       "      <td>95.13</td>\n",
       "      <td>35.68</td>\n",
       "      <td>82.64</td>\n",
       "      <td>94.80</td>\n",
       "      <td>61.71</td>\n",
       "      <td>27.54</td>\n",
       "    </tr>\n",
       "    <tr>\n",
       "      <th>5</th>\n",
       "      <td>60.94</td>\n",
       "      <td>93.56</td>\n",
       "      <td>76.39</td>\n",
       "      <td>76.54</td>\n",
       "      <td>92.41</td>\n",
       "      <td>22.05</td>\n",
       "      <td>21.78</td>\n",
       "    </tr>\n",
       "    <tr>\n",
       "      <th>6</th>\n",
       "      <td>80.49</td>\n",
       "      <td>25.83</td>\n",
       "      <td>87.38</td>\n",
       "      <td>25.40</td>\n",
       "      <td>80.47</td>\n",
       "      <td>1.42</td>\n",
       "      <td>23.09</td>\n",
       "    </tr>\n",
       "    <tr>\n",
       "      <th>7</th>\n",
       "      <td>94.44</td>\n",
       "      <td>6.39</td>\n",
       "      <td>58.04</td>\n",
       "      <td>69.14</td>\n",
       "      <td>40.34</td>\n",
       "      <td>99.02</td>\n",
       "      <td>56.51</td>\n",
       "    </tr>\n",
       "    <tr>\n",
       "      <th>8</th>\n",
       "      <td>93.74</td>\n",
       "      <td>69.19</td>\n",
       "      <td>17.44</td>\n",
       "      <td>1.36</td>\n",
       "      <td>58.95</td>\n",
       "      <td>78.14</td>\n",
       "      <td>88.03</td>\n",
       "    </tr>\n",
       "    <tr>\n",
       "      <th>9</th>\n",
       "      <td>75.65</td>\n",
       "      <td>45.88</td>\n",
       "      <td>90.80</td>\n",
       "      <td>96.32</td>\n",
       "      <td>81.84</td>\n",
       "      <td>13.12</td>\n",
       "      <td>39.45</td>\n",
       "    </tr>\n",
       "  </tbody>\n",
       "</table>\n",
       "</div>"
      ],
      "text/plain": [
       "   Lunes  Martes  Miercoles  Jueves  Viernes  Sabado  Domingo\n",
       "0  21.34   60.88       4.37    5.32    87.95   82.84    84.10\n",
       "1  43.81   85.45      14.79   29.27    87.58   80.90    58.51\n",
       "2  22.82   81.98      16.19   60.64    29.08   99.21    94.78\n",
       "3  14.83   50.27      96.36   29.09    62.85   91.24    15.56\n",
       "4  59.02   95.13      35.68   82.64    94.80   61.71    27.54\n",
       "5  60.94   93.56      76.39   76.54    92.41   22.05    21.78\n",
       "6  80.49   25.83      87.38   25.40    80.47    1.42    23.09\n",
       "7  94.44    6.39      58.04   69.14    40.34   99.02    56.51\n",
       "8  93.74   69.19      17.44    1.36    58.95   78.14    88.03\n",
       "9  75.65   45.88      90.80   96.32    81.84   13.12    39.45"
      ]
     },
     "execution_count": 4,
     "metadata": {},
     "output_type": "execute_result"
    }
   ],
   "source": [
    "dias = ['Lunes','Martes','Miercoles','Jueves','Viernes','Sabado','Domingo']\n",
    "df = pd.DataFrame(matriz, columns = dias)\n",
    "df"
   ]
  },
  {
   "cell_type": "markdown",
   "metadata": {},
   "source": [
    "### 1.3: Como crearías una estructura de datos si el tipo de dato no fuera uniforme (mismo tipo de dato)?\n",
    "Crea una estructura cuyo primer elemento sea un vector de NUMPY de 10 números aleatorios entre 1 y 100\n",
    "Y el segundo elemento un vector con esos mismos valores pero como caracteres."
   ]
  },
  {
   "cell_type": "code",
   "execution_count": 5,
   "metadata": {},
   "outputs": [
    {
     "data": {
      "text/plain": [
       "[71, 52, 64, 77, 9, 28, 13, 6, 86, 20]"
      ]
     },
     "execution_count": 5,
     "metadata": {},
     "output_type": "execute_result"
    }
   ],
   "source": [
    "integer = np.random.randint(1,101, size = 10)\n",
    "list(integer)"
   ]
  },
  {
   "cell_type": "code",
   "execution_count": 6,
   "metadata": {},
   "outputs": [
    {
     "data": {
      "text/plain": [
       "['71', '52', '64', '77', '9', '28', '13', '6', '86', '20']"
      ]
     },
     "execution_count": 6,
     "metadata": {},
     "output_type": "execute_result"
    }
   ],
   "source": [
    "string = list(map(str, integer))\n",
    "string"
   ]
  },
  {
   "cell_type": "code",
   "execution_count": 7,
   "metadata": {},
   "outputs": [
    {
     "data": {
      "text/plain": [
       "[array([71, 52, 64, 77,  9, 28, 13,  6, 86, 20]),\n",
       " ['71', '52', '64', '77', '9', '28', '13', '6', '86', '20']]"
      ]
     },
     "execution_count": 7,
     "metadata": {},
     "output_type": "execute_result"
    }
   ],
   "source": [
    "estructura = [integer, string]\n",
    "estructura"
   ]
  },
  {
   "cell_type": "markdown",
   "metadata": {},
   "source": [
    "### 1.4: normaliza todos los elementos de la primera matriz. \n",
    "Esto es, por cada elemento resta la media y divide por la desviacion tipica del conjunto."
   ]
  },
  {
   "cell_type": "code",
   "execution_count": 8,
   "metadata": {},
   "outputs": [
    {
     "name": "stdout",
     "output_type": "stream",
     "text": [
      "[[-1.15890711  0.11584604 -1.70601285 -1.67538525  0.98857157  0.8238273\n",
      "   0.86444917]\n",
      " [-0.43448366  0.90797261 -1.37007639 -0.90324721  0.97664293  0.76128251\n",
      "   0.03943822]\n",
      " [-1.11119253  0.79610126 -1.32494097  0.10810854 -0.90937273  1.35158929\n",
      "   1.20876793]\n",
      " [-1.3687868  -0.22621595  1.25970647 -0.90905034  0.17935802  1.0946398\n",
      "  -1.34525191]\n",
      " [ 0.05588041  1.22005178 -0.69659148  0.81737938  1.20941272  0.14260489\n",
      "  -0.95902169]\n",
      " [ 0.11778041  1.16943564  0.61588198  0.62071792  1.13236012 -1.13601701\n",
      "  -1.14472169]\n",
      " [ 0.74806428 -1.01415138  0.97019501 -1.0280144   0.74741948 -1.80111962\n",
      "  -1.10248784]\n",
      " [ 1.19780647 -1.64088889  0.02428562  0.382145   -0.54635502  1.34546377\n",
      "  -0.02504095]\n",
      " [ 1.17523876  0.38375698 -1.28464149 -1.803054    0.05362364  0.67230125\n",
      "   0.99115074]\n",
      " [ 0.59202469 -0.36774772  1.08045439  1.25841689  0.79158771 -1.42391649\n",
      "  -0.57504825]]\n"
     ]
    }
   ],
   "source": [
    "mean = np.mean(matriz)\n",
    "std = np.std(matriz)\n",
    "\n",
    "matriz_normalizada = (matriz - mean)/ std\n",
    "\n",
    "print(matriz_normalizada)"
   ]
  },
  {
   "cell_type": "markdown",
   "metadata": {},
   "source": [
    "### 1.5: Filtra la matriz normalizada y devuelve los valores entre -1 y 1, sin usar un bucle\n",
    "El resultado debe ser un vector con dichos valores ordenados descendentemente"
   ]
  },
  {
   "cell_type": "code",
   "execution_count": 9,
   "metadata": {},
   "outputs": [
    {
     "name": "stdout",
     "output_type": "stream",
     "text": [
      "[ 0.99115074  0.98857157  0.97664293  0.97019501  0.90797261  0.86444917\n",
      "  0.8238273   0.81737938  0.79610126  0.79158771  0.76128251  0.74806428\n",
      "  0.74741948  0.67230125  0.62071792  0.61588198  0.59202469  0.38375698\n",
      "  0.382145    0.17935802  0.14260489  0.11778041  0.11584604  0.10810854\n",
      "  0.05588041  0.05362364  0.03943822  0.02428562 -0.02504095 -0.22621595\n",
      " -0.36774772 -0.43448366 -0.54635502 -0.57504825 -0.69659148 -0.90324721\n",
      " -0.90905034 -0.90937273 -0.95902169]\n"
     ]
    }
   ],
   "source": [
    "matriz_filtrada = matriz_normalizada[(matriz_normalizada >= -1) & (matriz_normalizada <= 1)]\n",
    "\n",
    "matriz_ordenada = np.sort(matriz_filtrada)[::-1]\n",
    "\n",
    "print(matriz_ordenada)"
   ]
  },
  {
   "cell_type": "markdown",
   "metadata": {},
   "source": [
    "# BLOQUE 2: CREAR HISTOGRAMA Y DIAGRAMA DE BARRAS"
   ]
  },
  {
   "cell_type": "markdown",
   "metadata": {},
   "source": [
    "### 2.1 Crea un vector de números enteros aleatorios entre el 1 y el 10, de tamaño 100. Crea otro vector de números aleatorios entre el 11 y el 20 del mismo tamaño. \n",
    "Muestra por pantalla la tabla de frecuencia de la unión de los 2 vectores para los valores **5,6 y 8 (de la primera)** y para los valores **14,16,19 (de la segunda).**"
   ]
  },
  {
   "cell_type": "code",
   "execution_count": 10,
   "metadata": {},
   "outputs": [
    {
     "name": "stdout",
     "output_type": "stream",
     "text": [
      "El valor 5 aparece 8 veces en la union de los dos vectores.\n",
      "El valor 6 aparece 12 veces en la union de los dos vectores.\n",
      "El valor 8 aparece 14 veces en la union de los dos vectores.\n",
      "El valor 14 aparece 8 veces en la union de los dos vectores.\n",
      "El valor 16 aparece 14 veces en la union de los dos vectores.\n",
      "El valor 19 aparece 6 veces en la union de los dos vectores.\n"
     ]
    }
   ],
   "source": [
    "vector1 = np.random.randint(1,11, size = 100)\n",
    "vector2 = np.random.randint(11,21, size = 100)\n",
    "\n",
    "valores = [5,6,8,14,16,19]\n",
    "\n",
    "frecuencias = [] \n",
    "for valor in valores:\n",
    "    frecuencia = np.count_nonzero(np.logical_or(vector1 == valor, vector2 == valor))\n",
    "    frecuencias.append(frecuencia)\n",
    "    print(f'El valor {valor} aparece {frecuencia} veces en la union de los dos vectores.')\n"
   ]
  },
  {
   "cell_type": "code",
   "execution_count": 11,
   "metadata": {},
   "outputs": [
    {
     "data": {
      "text/plain": [
       "[8, 12, 14, 8, 14, 6]"
      ]
     },
     "execution_count": 11,
     "metadata": {},
     "output_type": "execute_result"
    }
   ],
   "source": [
    "frecuencias"
   ]
  },
  {
   "cell_type": "code",
   "execution_count": null,
   "metadata": {},
   "outputs": [],
   "source": []
  },
  {
   "cell_type": "code",
   "execution_count": null,
   "metadata": {},
   "outputs": [],
   "source": []
  },
  {
   "cell_type": "markdown",
   "metadata": {},
   "source": [
    "### 2.2 crea el histograma para dicho vector de frecuencias \n",
    "Con ancho de barra **0.75**, título: **histograma** y color de barra **azul**. Poner un título al **eje x** para diferenciar que son los números que se van a repetir."
   ]
  },
  {
   "cell_type": "code",
   "execution_count": 12,
   "metadata": {},
   "outputs": [
    {
     "data": {
      "image/png": "[encoded data removed]",
      "text/plain": [
       "<Figure size 640x480 with 1 Axes>"
      ]
     },
     "metadata": {},
     "output_type": "display_data"
    }
   ],
   "source": [
    "plt.hist(frecuencias, bins=len(frecuencias), rwidth = 0.75, color='blue')\n",
    "plt.title('Histograma')\n",
    "plt.xlabel('Frecuencias')\n",
    "plt.ylabel('Frecuencia Absoluta')\n",
    "plt.show()"
   ]
  },
  {
   "cell_type": "markdown",
   "metadata": {},
   "source": [
    "### 2.3 crea un diagrama de barras para el vector fusionado con los 3 elementos más repetidos, sin contar la moda."
   ]
  },
  {
   "cell_type": "code",
   "execution_count": 13,
   "metadata": {},
   "outputs": [
    {
     "data": {
      "image/png": "[encoded data removed]",
      "text/plain": [
       "<Figure size 640x480 with 1 Axes>"
      ]
     },
     "metadata": {},
     "output_type": "display_data"
    }
   ],
   "source": [
    "repeticiones = {}\n",
    "for elemento in frecuencias:\n",
    "    if elemento not in repeticiones:\n",
    "        repeticiones[elemento] = 0\n",
    "    repeticiones[elemento] += 1\n",
    "    \n",
    "elementos_repetidos = sorted(repeticiones.items(), key = lambda x:x[1], reverse = True)\n",
    "tres_mas_repetidos = [elemento[0] for elemento in elementos_repetidos[1:4]]\n",
    "\n",
    "valores = [frecuencias.count(elemento) for elemento in tres_mas_repetidos]\n",
    "nombres = [str(elemento) for elemento in tres_mas_repetidos]\n",
    "plt.bar(nombres, valores)\n",
    "\n",
    "plt.title('Diagrama de Barras')\n",
    "plt.xlabel('Elementos')\n",
    "plt.ylabel('Frecuencia')\n",
    "plt.show()"
   ]
  },
  {
   "cell_type": "markdown",
   "metadata": {},
   "source": [
    "# BLOQUE 3: CARGA DE FICHEROS Y MODELIZACION.\n",
    "\n",
    "Tenemos un fichero llamado **data_examen_sanit** del cual queremos realizar una modelizacion mediante un **arbol de decisión** y una **regresión logística**.\n",
    "La columna objetivo de la tabla se llama <font color=\"#9E1B32\">**target**</font>, y el resto de columnas actuan como input para predecir el Target"
   ]
  },
  {
   "cell_type": "markdown",
   "metadata": {},
   "source": [
    "### 3.1 Cargue dicho fichero y prepara los datos para la modelización. Con una proporcion 70-30 para los conjuntos train y test. Obtén los estadisticos más importantes para las variables del conjunto de datos"
   ]
  },
  {
   "cell_type": "code",
   "execution_count": 14,
   "metadata": {},
   "outputs": [
    {
     "data": {
      "text/html": [
       "<div>\n",
       "<style scoped>\n",
       "    .dataframe tbody tr th:only-of-type {\n",
       "        vertical-align: middle;\n",
       "    }\n",
       "\n",
       "    .dataframe tbody tr th {\n",
       "        vertical-align: top;\n",
       "    }\n",
       "\n",
       "    .dataframe thead th {\n",
       "        text-align: right;\n",
       "    }\n",
       "</style>\n",
       "<table border=\"1\" class=\"dataframe\">\n",
       "  <thead>\n",
       "    <tr style=\"text-align: right;\">\n",
       "      <th></th>\n",
       "      <th>target</th>\n",
       "      <th>var1</th>\n",
       "      <th>var2</th>\n",
       "      <th>var3</th>\n",
       "      <th>var4</th>\n",
       "      <th>var5</th>\n",
       "      <th>var6</th>\n",
       "      <th>var7</th>\n",
       "      <th>var8</th>\n",
       "      <th>var9</th>\n",
       "      <th>...</th>\n",
       "      <th>var13</th>\n",
       "      <th>var14</th>\n",
       "      <th>var15</th>\n",
       "      <th>var16</th>\n",
       "      <th>var17</th>\n",
       "      <th>var18</th>\n",
       "      <th>var19</th>\n",
       "      <th>var20</th>\n",
       "      <th>var21</th>\n",
       "      <th>var22</th>\n",
       "    </tr>\n",
       "  </thead>\n",
       "  <tbody>\n",
       "    <tr>\n",
       "      <th>0</th>\n",
       "      <td>1</td>\n",
       "      <td>1</td>\n",
       "      <td>61</td>\n",
       "      <td>0.0</td>\n",
       "      <td>0.0</td>\n",
       "      <td>0.0</td>\n",
       "      <td>165.500000</td>\n",
       "      <td>0.056250</td>\n",
       "      <td>1.0</td>\n",
       "      <td>-0.198475</td>\n",
       "      <td>...</td>\n",
       "      <td>0.000000</td>\n",
       "      <td>0</td>\n",
       "      <td>0.0</td>\n",
       "      <td>0</td>\n",
       "      <td>0.0</td>\n",
       "      <td>0.000000</td>\n",
       "      <td>0.000000</td>\n",
       "      <td>0.000000</td>\n",
       "      <td>0.000000</td>\n",
       "      <td>0.000000</td>\n",
       "    </tr>\n",
       "    <tr>\n",
       "      <th>1</th>\n",
       "      <td>0</td>\n",
       "      <td>164</td>\n",
       "      <td>58</td>\n",
       "      <td>0.0</td>\n",
       "      <td>0.0</td>\n",
       "      <td>0.0</td>\n",
       "      <td>0.000000</td>\n",
       "      <td>0.000000</td>\n",
       "      <td>1.0</td>\n",
       "      <td>-0.341181</td>\n",
       "      <td>...</td>\n",
       "      <td>2.333333</td>\n",
       "      <td>4</td>\n",
       "      <td>1.0</td>\n",
       "      <td>0</td>\n",
       "      <td>8400.0</td>\n",
       "      <td>2780.186523</td>\n",
       "      <td>5608.359863</td>\n",
       "      <td>3172.283203</td>\n",
       "      <td>3689.523438</td>\n",
       "      <td>11.333333</td>\n",
       "    </tr>\n",
       "    <tr>\n",
       "      <th>2</th>\n",
       "      <td>1</td>\n",
       "      <td>61</td>\n",
       "      <td>60</td>\n",
       "      <td>0.0</td>\n",
       "      <td>0.0</td>\n",
       "      <td>0.0</td>\n",
       "      <td>0.000000</td>\n",
       "      <td>0.000000</td>\n",
       "      <td>1.0</td>\n",
       "      <td>-0.078947</td>\n",
       "      <td>...</td>\n",
       "      <td>2.000000</td>\n",
       "      <td>2</td>\n",
       "      <td>3.0</td>\n",
       "      <td>0</td>\n",
       "      <td>0.0</td>\n",
       "      <td>0.000000</td>\n",
       "      <td>0.000000</td>\n",
       "      <td>0.000000</td>\n",
       "      <td>0.000000</td>\n",
       "      <td>5.500000</td>\n",
       "    </tr>\n",
       "    <tr>\n",
       "      <th>3</th>\n",
       "      <td>0</td>\n",
       "      <td>108</td>\n",
       "      <td>49</td>\n",
       "      <td>0.0</td>\n",
       "      <td>0.0</td>\n",
       "      <td>0.0</td>\n",
       "      <td>0.000000</td>\n",
       "      <td>0.000000</td>\n",
       "      <td>1.0</td>\n",
       "      <td>-0.924464</td>\n",
       "      <td>...</td>\n",
       "      <td>3.666667</td>\n",
       "      <td>4</td>\n",
       "      <td>2.0</td>\n",
       "      <td>0</td>\n",
       "      <td>67320.0</td>\n",
       "      <td>0.000000</td>\n",
       "      <td>0.000000</td>\n",
       "      <td>0.000000</td>\n",
       "      <td>2168.733398</td>\n",
       "      <td>8.500000</td>\n",
       "    </tr>\n",
       "    <tr>\n",
       "      <th>4</th>\n",
       "      <td>0</td>\n",
       "      <td>157</td>\n",
       "      <td>74</td>\n",
       "      <td>0.0</td>\n",
       "      <td>0.0</td>\n",
       "      <td>0.0</td>\n",
       "      <td>0.000000</td>\n",
       "      <td>0.000000</td>\n",
       "      <td>1.0</td>\n",
       "      <td>1.705882</td>\n",
       "      <td>...</td>\n",
       "      <td>2.000000</td>\n",
       "      <td>3</td>\n",
       "      <td>1.0</td>\n",
       "      <td>0</td>\n",
       "      <td>12600.0</td>\n",
       "      <td>8409.586914</td>\n",
       "      <td>3175.889893</td>\n",
       "      <td>5024.774902</td>\n",
       "      <td>0.000000</td>\n",
       "      <td>0.000000</td>\n",
       "    </tr>\n",
       "    <tr>\n",
       "      <th>...</th>\n",
       "      <td>...</td>\n",
       "      <td>...</td>\n",
       "      <td>...</td>\n",
       "      <td>...</td>\n",
       "      <td>...</td>\n",
       "      <td>...</td>\n",
       "      <td>...</td>\n",
       "      <td>...</td>\n",
       "      <td>...</td>\n",
       "      <td>...</td>\n",
       "      <td>...</td>\n",
       "      <td>...</td>\n",
       "      <td>...</td>\n",
       "      <td>...</td>\n",
       "      <td>...</td>\n",
       "      <td>...</td>\n",
       "      <td>...</td>\n",
       "      <td>...</td>\n",
       "      <td>...</td>\n",
       "      <td>...</td>\n",
       "      <td>...</td>\n",
       "    </tr>\n",
       "    <tr>\n",
       "      <th>25822</th>\n",
       "      <td>0</td>\n",
       "      <td>2</td>\n",
       "      <td>35</td>\n",
       "      <td>0.0</td>\n",
       "      <td>0.0</td>\n",
       "      <td>0.0</td>\n",
       "      <td>1514.666626</td>\n",
       "      <td>0.738772</td>\n",
       "      <td>1.0</td>\n",
       "      <td>2.028708</td>\n",
       "      <td>...</td>\n",
       "      <td>0.000000</td>\n",
       "      <td>0</td>\n",
       "      <td>0.0</td>\n",
       "      <td>0</td>\n",
       "      <td>0.0</td>\n",
       "      <td>0.000000</td>\n",
       "      <td>0.000000</td>\n",
       "      <td>0.000000</td>\n",
       "      <td>0.000000</td>\n",
       "      <td>0.000000</td>\n",
       "    </tr>\n",
       "    <tr>\n",
       "      <th>25823</th>\n",
       "      <td>0</td>\n",
       "      <td>1</td>\n",
       "      <td>29</td>\n",
       "      <td>0.0</td>\n",
       "      <td>0.0</td>\n",
       "      <td>0.0</td>\n",
       "      <td>3442.166748</td>\n",
       "      <td>1.187196</td>\n",
       "      <td>1.0</td>\n",
       "      <td>0.765327</td>\n",
       "      <td>...</td>\n",
       "      <td>2.000000</td>\n",
       "      <td>2</td>\n",
       "      <td>1.0</td>\n",
       "      <td>0</td>\n",
       "      <td>0.0</td>\n",
       "      <td>0.000000</td>\n",
       "      <td>0.000000</td>\n",
       "      <td>0.000000</td>\n",
       "      <td>0.000000</td>\n",
       "      <td>0.000000</td>\n",
       "    </tr>\n",
       "    <tr>\n",
       "      <th>25824</th>\n",
       "      <td>0</td>\n",
       "      <td>3</td>\n",
       "      <td>43</td>\n",
       "      <td>0.0</td>\n",
       "      <td>0.0</td>\n",
       "      <td>0.0</td>\n",
       "      <td>4265.666504</td>\n",
       "      <td>-1.000000</td>\n",
       "      <td>1.0</td>\n",
       "      <td>-0.928783</td>\n",
       "      <td>...</td>\n",
       "      <td>0.000000</td>\n",
       "      <td>0</td>\n",
       "      <td>0.0</td>\n",
       "      <td>0</td>\n",
       "      <td>0.0</td>\n",
       "      <td>0.000000</td>\n",
       "      <td>0.000000</td>\n",
       "      <td>0.000000</td>\n",
       "      <td>0.000000</td>\n",
       "      <td>0.000000</td>\n",
       "    </tr>\n",
       "    <tr>\n",
       "      <th>25825</th>\n",
       "      <td>0</td>\n",
       "      <td>2</td>\n",
       "      <td>31</td>\n",
       "      <td>0.0</td>\n",
       "      <td>0.0</td>\n",
       "      <td>0.0</td>\n",
       "      <td>1433.333374</td>\n",
       "      <td>0.235294</td>\n",
       "      <td>1.0</td>\n",
       "      <td>-0.155882</td>\n",
       "      <td>...</td>\n",
       "      <td>0.000000</td>\n",
       "      <td>0</td>\n",
       "      <td>0.0</td>\n",
       "      <td>0</td>\n",
       "      <td>0.0</td>\n",
       "      <td>0.000000</td>\n",
       "      <td>0.000000</td>\n",
       "      <td>0.000000</td>\n",
       "      <td>0.000000</td>\n",
       "      <td>0.000000</td>\n",
       "    </tr>\n",
       "    <tr>\n",
       "      <th>25826</th>\n",
       "      <td>0</td>\n",
       "      <td>1</td>\n",
       "      <td>46</td>\n",
       "      <td>0.0</td>\n",
       "      <td>0.0</td>\n",
       "      <td>0.0</td>\n",
       "      <td>3558.666748</td>\n",
       "      <td>1.554023</td>\n",
       "      <td>1.0</td>\n",
       "      <td>0.473077</td>\n",
       "      <td>...</td>\n",
       "      <td>0.000000</td>\n",
       "      <td>0</td>\n",
       "      <td>0.0</td>\n",
       "      <td>0</td>\n",
       "      <td>0.0</td>\n",
       "      <td>0.000000</td>\n",
       "      <td>0.000000</td>\n",
       "      <td>0.000000</td>\n",
       "      <td>0.000000</td>\n",
       "      <td>0.000000</td>\n",
       "    </tr>\n",
       "  </tbody>\n",
       "</table>\n",
       "<p>25827 rows × 23 columns</p>\n",
       "</div>"
      ],
      "text/plain": [
       "       target  var1  var2  var3  var4  var5         var6      var7  var8  \\\n",
       "0           1     1    61   0.0   0.0   0.0   165.500000  0.056250   1.0   \n",
       "1           0   164    58   0.0   0.0   0.0     0.000000  0.000000   1.0   \n",
       "2           1    61    60   0.0   0.0   0.0     0.000000  0.000000   1.0   \n",
       "3           0   108    49   0.0   0.0   0.0     0.000000  0.000000   1.0   \n",
       "4           0   157    74   0.0   0.0   0.0     0.000000  0.000000   1.0   \n",
       "...       ...   ...   ...   ...   ...   ...          ...       ...   ...   \n",
       "25822       0     2    35   0.0   0.0   0.0  1514.666626  0.738772   1.0   \n",
       "25823       0     1    29   0.0   0.0   0.0  3442.166748  1.187196   1.0   \n",
       "25824       0     3    43   0.0   0.0   0.0  4265.666504 -1.000000   1.0   \n",
       "25825       0     2    31   0.0   0.0   0.0  1433.333374  0.235294   1.0   \n",
       "25826       0     1    46   0.0   0.0   0.0  3558.666748  1.554023   1.0   \n",
       "\n",
       "           var9  ...     var13  var14  var15  var16    var17        var18  \\\n",
       "0     -0.198475  ...  0.000000      0    0.0      0      0.0     0.000000   \n",
       "1     -0.341181  ...  2.333333      4    1.0      0   8400.0  2780.186523   \n",
       "2     -0.078947  ...  2.000000      2    3.0      0      0.0     0.000000   \n",
       "3     -0.924464  ...  3.666667      4    2.0      0  67320.0     0.000000   \n",
       "4      1.705882  ...  2.000000      3    1.0      0  12600.0  8409.586914   \n",
       "...         ...  ...       ...    ...    ...    ...      ...          ...   \n",
       "25822  2.028708  ...  0.000000      0    0.0      0      0.0     0.000000   \n",
       "25823  0.765327  ...  2.000000      2    1.0      0      0.0     0.000000   \n",
       "25824 -0.928783  ...  0.000000      0    0.0      0      0.0     0.000000   \n",
       "25825 -0.155882  ...  0.000000      0    0.0      0      0.0     0.000000   \n",
       "25826  0.473077  ...  0.000000      0    0.0      0      0.0     0.000000   \n",
       "\n",
       "             var19        var20        var21      var22  \n",
       "0         0.000000     0.000000     0.000000   0.000000  \n",
       "1      5608.359863  3172.283203  3689.523438  11.333333  \n",
       "2         0.000000     0.000000     0.000000   5.500000  \n",
       "3         0.000000     0.000000  2168.733398   8.500000  \n",
       "4      3175.889893  5024.774902     0.000000   0.000000  \n",
       "...            ...          ...          ...        ...  \n",
       "25822     0.000000     0.000000     0.000000   0.000000  \n",
       "25823     0.000000     0.000000     0.000000   0.000000  \n",
       "25824     0.000000     0.000000     0.000000   0.000000  \n",
       "25825     0.000000     0.000000     0.000000   0.000000  \n",
       "25826     0.000000     0.000000     0.000000   0.000000  \n",
       "\n",
       "[25827 rows x 23 columns]"
      ]
     },
     "execution_count": 14,
     "metadata": {},
     "output_type": "execute_result"
    }
   ],
   "source": [
    "data = pd.read_csv('data_examen_sanit.txt', sep = '\t')\n",
    "data"
   ]
  },
  {
   "cell_type": "code",
   "execution_count": 15,
   "metadata": {},
   "outputs": [],
   "source": [
    "target = data['target']\n",
    "inputs = data.drop('target', axis=1)"
   ]
  },
  {
   "cell_type": "code",
   "execution_count": 16,
   "metadata": {},
   "outputs": [],
   "source": [
    "train_inputs, test_inputs, train_target, test_target = train_test_split(inputs, target, test_size = 0.3, random_state = 42)"
   ]
  },
  {
   "cell_type": "code",
   "execution_count": 18,
   "metadata": {},
   "outputs": [
    {
     "data": {
      "text/html": [
       "<div>\n",
       "<style scoped>\n",
       "    .dataframe tbody tr th:only-of-type {\n",
       "        vertical-align: middle;\n",
       "    }\n",
       "\n",
       "    .dataframe tbody tr th {\n",
       "        vertical-align: top;\n",
       "    }\n",
       "\n",
       "    .dataframe thead th {\n",
       "        text-align: right;\n",
       "    }\n",
       "</style>\n",
       "<table border=\"1\" class=\"dataframe\">\n",
       "  <thead>\n",
       "    <tr style=\"text-align: right;\">\n",
       "      <th></th>\n",
       "      <th>var1</th>\n",
       "      <th>var2</th>\n",
       "      <th>var3</th>\n",
       "      <th>var4</th>\n",
       "      <th>var5</th>\n",
       "      <th>var6</th>\n",
       "      <th>var7</th>\n",
       "      <th>var8</th>\n",
       "      <th>var9</th>\n",
       "      <th>var10</th>\n",
       "      <th>...</th>\n",
       "      <th>var13</th>\n",
       "      <th>var14</th>\n",
       "      <th>var15</th>\n",
       "      <th>var16</th>\n",
       "      <th>var17</th>\n",
       "      <th>var18</th>\n",
       "      <th>var19</th>\n",
       "      <th>var20</th>\n",
       "      <th>var21</th>\n",
       "      <th>var22</th>\n",
       "    </tr>\n",
       "  </thead>\n",
       "  <tbody>\n",
       "    <tr>\n",
       "      <th>count</th>\n",
       "      <td>18078.000000</td>\n",
       "      <td>18078.000000</td>\n",
       "      <td>1.807800e+04</td>\n",
       "      <td>18078.000000</td>\n",
       "      <td>18078.000000</td>\n",
       "      <td>18078.000000</td>\n",
       "      <td>1.807800e+04</td>\n",
       "      <td>18078.000000</td>\n",
       "      <td>1.807800e+04</td>\n",
       "      <td>1.807800e+04</td>\n",
       "      <td>...</td>\n",
       "      <td>18078.000000</td>\n",
       "      <td>18078.000000</td>\n",
       "      <td>18078.000000</td>\n",
       "      <td>1.807800e+04</td>\n",
       "      <td>18078.000000</td>\n",
       "      <td>18078.000000</td>\n",
       "      <td>18078.000000</td>\n",
       "      <td>18078.000000</td>\n",
       "      <td>18078.000000</td>\n",
       "      <td>18078.000000</td>\n",
       "    </tr>\n",
       "    <tr>\n",
       "      <th>mean</th>\n",
       "      <td>30.084855</td>\n",
       "      <td>44.140336</td>\n",
       "      <td>9.655445e+03</td>\n",
       "      <td>0.149936</td>\n",
       "      <td>314.061199</td>\n",
       "      <td>2115.061778</td>\n",
       "      <td>2.915146e+05</td>\n",
       "      <td>0.874750</td>\n",
       "      <td>2.732730e+05</td>\n",
       "      <td>1.192337e+04</td>\n",
       "      <td>...</td>\n",
       "      <td>1.204194</td>\n",
       "      <td>2.255172</td>\n",
       "      <td>1.243648</td>\n",
       "      <td>4.159752e+05</td>\n",
       "      <td>5111.008264</td>\n",
       "      <td>2349.459993</td>\n",
       "      <td>869.920656</td>\n",
       "      <td>878.147338</td>\n",
       "      <td>242.692224</td>\n",
       "      <td>1.263853</td>\n",
       "    </tr>\n",
       "    <tr>\n",
       "      <th>std</th>\n",
       "      <td>42.147860</td>\n",
       "      <td>13.316096</td>\n",
       "      <td>6.743033e+04</td>\n",
       "      <td>0.377784</td>\n",
       "      <td>5710.775987</td>\n",
       "      <td>3706.617376</td>\n",
       "      <td>1.682356e+06</td>\n",
       "      <td>0.305312</td>\n",
       "      <td>1.630359e+06</td>\n",
       "      <td>8.221090e+04</td>\n",
       "      <td>...</td>\n",
       "      <td>1.428587</td>\n",
       "      <td>1.877446</td>\n",
       "      <td>1.078280</td>\n",
       "      <td>1.996731e+06</td>\n",
       "      <td>12091.719251</td>\n",
       "      <td>7275.349986</td>\n",
       "      <td>4229.858972</td>\n",
       "      <td>3903.209297</td>\n",
       "      <td>1132.686916</td>\n",
       "      <td>3.786622</td>\n",
       "    </tr>\n",
       "    <tr>\n",
       "      <th>min</th>\n",
       "      <td>-1.000000</td>\n",
       "      <td>20.000000</td>\n",
       "      <td>0.000000e+00</td>\n",
       "      <td>0.000000</td>\n",
       "      <td>0.000000</td>\n",
       "      <td>0.000000</td>\n",
       "      <td>-1.000000e+00</td>\n",
       "      <td>0.000000</td>\n",
       "      <td>-1.000000e+00</td>\n",
       "      <td>0.000000e+00</td>\n",
       "      <td>...</td>\n",
       "      <td>0.000000</td>\n",
       "      <td>0.000000</td>\n",
       "      <td>0.000000</td>\n",
       "      <td>-1.000000e+00</td>\n",
       "      <td>0.000000</td>\n",
       "      <td>0.000000</td>\n",
       "      <td>0.000000</td>\n",
       "      <td>0.000000</td>\n",
       "      <td>0.000000</td>\n",
       "      <td>0.000000</td>\n",
       "    </tr>\n",
       "    <tr>\n",
       "      <th>25%</th>\n",
       "      <td>3.000000</td>\n",
       "      <td>33.000000</td>\n",
       "      <td>0.000000e+00</td>\n",
       "      <td>0.000000</td>\n",
       "      <td>0.000000</td>\n",
       "      <td>0.000000</td>\n",
       "      <td>-1.592221e-02</td>\n",
       "      <td>1.000000</td>\n",
       "      <td>-6.048268e-01</td>\n",
       "      <td>6.720000e+02</td>\n",
       "      <td>...</td>\n",
       "      <td>0.000000</td>\n",
       "      <td>1.000000</td>\n",
       "      <td>0.000000</td>\n",
       "      <td>0.000000e+00</td>\n",
       "      <td>0.000000</td>\n",
       "      <td>0.000000</td>\n",
       "      <td>0.000000</td>\n",
       "      <td>0.000000</td>\n",
       "      <td>0.000000</td>\n",
       "      <td>0.000000</td>\n",
       "    </tr>\n",
       "    <tr>\n",
       "      <th>50%</th>\n",
       "      <td>10.000000</td>\n",
       "      <td>43.000000</td>\n",
       "      <td>0.000000e+00</td>\n",
       "      <td>0.000000</td>\n",
       "      <td>0.000000</td>\n",
       "      <td>1196.733337</td>\n",
       "      <td>0.000000e+00</td>\n",
       "      <td>1.000000</td>\n",
       "      <td>0.000000e+00</td>\n",
       "      <td>2.843500e+03</td>\n",
       "      <td>...</td>\n",
       "      <td>1.000000</td>\n",
       "      <td>2.000000</td>\n",
       "      <td>1.000000</td>\n",
       "      <td>0.000000e+00</td>\n",
       "      <td>0.000000</td>\n",
       "      <td>0.000000</td>\n",
       "      <td>0.000000</td>\n",
       "      <td>0.000000</td>\n",
       "      <td>0.000000</td>\n",
       "      <td>0.000000</td>\n",
       "    </tr>\n",
       "    <tr>\n",
       "      <th>75%</th>\n",
       "      <td>37.000000</td>\n",
       "      <td>55.000000</td>\n",
       "      <td>0.000000e+00</td>\n",
       "      <td>0.000000</td>\n",
       "      <td>0.000000</td>\n",
       "      <td>2976.812439</td>\n",
       "      <td>1.579209e-02</td>\n",
       "      <td>1.000000</td>\n",
       "      <td>4.779721e-01</td>\n",
       "      <td>8.795250e+03</td>\n",
       "      <td>...</td>\n",
       "      <td>2.000000</td>\n",
       "      <td>3.000000</td>\n",
       "      <td>2.000000</td>\n",
       "      <td>0.000000e+00</td>\n",
       "      <td>5200.000000</td>\n",
       "      <td>876.590866</td>\n",
       "      <td>0.000000</td>\n",
       "      <td>0.000000</td>\n",
       "      <td>0.000000</td>\n",
       "      <td>1.000000</td>\n",
       "    </tr>\n",
       "    <tr>\n",
       "      <th>max</th>\n",
       "      <td>173.000000</td>\n",
       "      <td>85.000000</td>\n",
       "      <td>2.715397e+06</td>\n",
       "      <td>6.000000</td>\n",
       "      <td>461107.156250</td>\n",
       "      <td>245000.000000</td>\n",
       "      <td>9.999999e+06</td>\n",
       "      <td>1.000000</td>\n",
       "      <td>9.999999e+06</td>\n",
       "      <td>9.045306e+06</td>\n",
       "      <td>...</td>\n",
       "      <td>8.000000</td>\n",
       "      <td>11.000000</td>\n",
       "      <td>3.000000</td>\n",
       "      <td>9.999999e+06</td>\n",
       "      <td>170000.000000</td>\n",
       "      <td>143228.750000</td>\n",
       "      <td>102447.101562</td>\n",
       "      <td>101756.679688</td>\n",
       "      <td>63310.980469</td>\n",
       "      <td>76.166664</td>\n",
       "    </tr>\n",
       "  </tbody>\n",
       "</table>\n",
       "<p>8 rows × 22 columns</p>\n",
       "</div>"
      ],
      "text/plain": [
       "               var1          var2          var3          var4           var5  \\\n",
       "count  18078.000000  18078.000000  1.807800e+04  18078.000000   18078.000000   \n",
       "mean      30.084855     44.140336  9.655445e+03      0.149936     314.061199   \n",
       "std       42.147860     13.316096  6.743033e+04      0.377784    5710.775987   \n",
       "min       -1.000000     20.000000  0.000000e+00      0.000000       0.000000   \n",
       "25%        3.000000     33.000000  0.000000e+00      0.000000       0.000000   \n",
       "50%       10.000000     43.000000  0.000000e+00      0.000000       0.000000   \n",
       "75%       37.000000     55.000000  0.000000e+00      0.000000       0.000000   \n",
       "max      173.000000     85.000000  2.715397e+06      6.000000  461107.156250   \n",
       "\n",
       "                var6          var7          var8          var9         var10  \\\n",
       "count   18078.000000  1.807800e+04  18078.000000  1.807800e+04  1.807800e+04   \n",
       "mean     2115.061778  2.915146e+05      0.874750  2.732730e+05  1.192337e+04   \n",
       "std      3706.617376  1.682356e+06      0.305312  1.630359e+06  8.221090e+04   \n",
       "min         0.000000 -1.000000e+00      0.000000 -1.000000e+00  0.000000e+00   \n",
       "25%         0.000000 -1.592221e-02      1.000000 -6.048268e-01  6.720000e+02   \n",
       "50%      1196.733337  0.000000e+00      1.000000  0.000000e+00  2.843500e+03   \n",
       "75%      2976.812439  1.579209e-02      1.000000  4.779721e-01  8.795250e+03   \n",
       "max    245000.000000  9.999999e+06      1.000000  9.999999e+06  9.045306e+06   \n",
       "\n",
       "       ...         var13         var14         var15         var16  \\\n",
       "count  ...  18078.000000  18078.000000  18078.000000  1.807800e+04   \n",
       "mean   ...      1.204194      2.255172      1.243648  4.159752e+05   \n",
       "std    ...      1.428587      1.877446      1.078280  1.996731e+06   \n",
       "min    ...      0.000000      0.000000      0.000000 -1.000000e+00   \n",
       "25%    ...      0.000000      1.000000      0.000000  0.000000e+00   \n",
       "50%    ...      1.000000      2.000000      1.000000  0.000000e+00   \n",
       "75%    ...      2.000000      3.000000      2.000000  0.000000e+00   \n",
       "max    ...      8.000000     11.000000      3.000000  9.999999e+06   \n",
       "\n",
       "               var17          var18          var19          var20  \\\n",
       "count   18078.000000   18078.000000   18078.000000   18078.000000   \n",
       "mean     5111.008264    2349.459993     869.920656     878.147338   \n",
       "std     12091.719251    7275.349986    4229.858972    3903.209297   \n",
       "min         0.000000       0.000000       0.000000       0.000000   \n",
       "25%         0.000000       0.000000       0.000000       0.000000   \n",
       "50%         0.000000       0.000000       0.000000       0.000000   \n",
       "75%      5200.000000     876.590866       0.000000       0.000000   \n",
       "max    170000.000000  143228.750000  102447.101562  101756.679688   \n",
       "\n",
       "              var21         var22  \n",
       "count  18078.000000  18078.000000  \n",
       "mean     242.692224      1.263853  \n",
       "std     1132.686916      3.786622  \n",
       "min        0.000000      0.000000  \n",
       "25%        0.000000      0.000000  \n",
       "50%        0.000000      0.000000  \n",
       "75%        0.000000      1.000000  \n",
       "max    63310.980469     76.166664  \n",
       "\n",
       "[8 rows x 22 columns]"
      ]
     },
     "execution_count": 18,
     "metadata": {},
     "output_type": "execute_result"
    }
   ],
   "source": [
    "train_inputs.describe()"
   ]
  },
  {
   "cell_type": "markdown",
   "metadata": {},
   "source": [
    "### 3.2 Entrene y evalue los modelos. Arbol y reg. logística"
   ]
  },
  {
   "cell_type": "markdown",
   "metadata": {},
   "source": [
    "#### Arbol de decisión"
   ]
  },
  {
   "cell_type": "code",
   "execution_count": 19,
   "metadata": {},
   "outputs": [
    {
     "name": "stdout",
     "output_type": "stream",
     "text": [
      "La precisión es  0.6933797909407665\n"
     ]
    }
   ],
   "source": [
    "tree_model = DecisionTreeClassifier()\n",
    "\n",
    "tree_model.fit(train_inputs, train_target)\n",
    "\n",
    "tree_predictions = tree_model.predict(test_inputs)\n",
    "\n",
    "tree_accuracy = accuracy_score(test_target, tree_predictions)\n",
    "\n",
    "print('La precisión es ', tree_accuracy)"
   ]
  },
  {
   "cell_type": "markdown",
   "metadata": {},
   "source": [
    "#### Reg. logística"
   ]
  },
  {
   "cell_type": "code",
   "execution_count": 20,
   "metadata": {},
   "outputs": [
    {
     "name": "stdout",
     "output_type": "stream",
     "text": [
      "Precisión del modelo de regresión logística:  0.7131242740998839\n"
     ]
    },
    {
     "name": "stderr",
     "output_type": "stream",
     "text": [
      "/opt/anaconda3/lib/python3.9/site-packages/sklearn/linear_model/_logistic.py:814: ConvergenceWarning: lbfgs failed to converge (status=1):\n",
      "STOP: TOTAL NO. of ITERATIONS REACHED LIMIT.\n",
      "\n",
      "Increase the number of iterations (max_iter) or scale the data as shown in:\n",
      "    https://scikit-learn.org/stable/modules/preprocessing.html\n",
      "Please also refer to the documentation for alternative solver options:\n",
      "    https://scikit-learn.org/stable/modules/linear_model.html#logistic-regression\n",
      "  n_iter_i = _check_optimize_result(\n"
     ]
    }
   ],
   "source": [
    "logistic_model = LogisticRegression()\n",
    "\n",
    "logistic_model.fit(train_inputs, train_target)\n",
    "\n",
    "logistic_predictions = logistic_model.predict(test_inputs)\n",
    "\n",
    "accuracy = accuracy_score(test_target, logistic_predictions)\n",
    "print('Precisión del modelo de regresión logística: ', accuracy)"
   ]
  },
  {
   "cell_type": "markdown",
   "metadata": {},
   "source": [
    "### 3.3 Proponga un método para comparar ambos modelos (ej: Curva ROC)"
   ]
  },
  {
   "cell_type": "code",
   "execution_count": 21,
   "metadata": {},
   "outputs": [
    {
     "name": "stdout",
     "output_type": "stream",
     "text": [
      "AUC del modelo de arbol de decisión 0.6594360759616162\n",
      "AUC del modelo de arbol de decisión 0.7256728346710086\n"
     ]
    }
   ],
   "source": [
    "tree_probabilities = tree_model.predict_proba(test_inputs)[:, 1]\n",
    "\n",
    "tree_fpr, tree_tpr, tree_thresholds = roc_curve(test_target, tree_probabilities)\n",
    "tree_auc = roc_auc_score(test_target, tree_probabilities)\n",
    "print('AUC del modelo de arbol de decisión',  tree_auc)\n",
    "\n",
    "logistic_probabilities = logistic_model.predict_proba(test_inputs)[:, 1]\n",
    "\n",
    "logistic_fpr, logistic_tpr, logistic_thresholds = roc_curve(test_target, logistic_probabilities)\n",
    "logistic_auc = roc_auc_score(test_target, logistic_probabilities)\n",
    "print('AUC del modelo de arbol de decisión',  logistic_auc)"
   ]
  },
  {
   "cell_type": "code",
   "execution_count": 22,
   "metadata": {},
   "outputs": [
    {
     "data": {
      "image/png": "[encoded data removed]",
      "text/plain": [
       "<Figure size 640x480 with 1 Axes>"
      ]
     },
     "metadata": {},
     "output_type": "display_data"
    }
   ],
   "source": [
    "plt.plot(tree_fpr, tree_tpr, label = 'Arbol de decisión')\n",
    "plt.plot(logistic_fpr, logistic_tpr, label = 'Regresion logistica')\n",
    "plt.plot([0,1], [0,1], linestyle='--', color = 'gray', label='Aleatorio')\n",
    "plt.xlabel('Tasa de falsos positivos')\n",
    "plt.ylabel('Tasa de verdaderos positivos')\n",
    "plt.title('Curva Roc')\n",
    "plt.legend()\n",
    "plt.show()"
   ]
  }
 ],
 "metadata": {
  "kernelspec": {
   "display_name": "Python 3 (ipykernel)",
   "language": "python",
   "name": "python3"
  },
  "language_info": {
   "codemirror_mode": {
    "name": "ipython",
    "version": 3
   },
   "file_extension": ".py",
   "mimetype": "text/x-python",
   "name": "python",
   "nbconvert_exporter": "python",
   "pygments_lexer": "ipython3",
   "version": "3.9.13"
  }
 },
 "nbformat": 4,
 "nbformat_minor": 4
}
